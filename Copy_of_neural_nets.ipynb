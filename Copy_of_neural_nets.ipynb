{
  "cells": [
    {
      "cell_type": "markdown",
      "metadata": {
        "id": "view-in-github",
        "colab_type": "text"
      },
      "source": [
        "<a href=\"https://colab.research.google.com/github/gunelatakishyeva/Deep-Learning-Projects/blob/main/Copy_of_neural_nets.ipynb\" target=\"_parent\"><img src=\"https://colab.research.google.com/assets/colab-badge.svg\" alt=\"Open In Colab\"/></a>"
      ]
    },
    {
      "cell_type": "code",
      "execution_count": null,
      "metadata": {
        "id": "6QeLql1tDgR5"
      },
      "outputs": [],
      "source": [
        "import numpy as np\n",
        "from sklearn.datasets import load_iris\n",
        "from sklearn.linear_model import Perceptron\n",
        "\n",
        "iris=load_iris(as_frame=True)\n",
        "X=iris.data[['petal length (cm)','petal width (cm)']].values\n",
        "y=(iris.target==0)\n",
        "\n",
        "per_clf=Perceptron(random_state=42)\n",
        "per_clf.fit(X,y)\n",
        "\n",
        "X_new=[[2,0.5],[3,1]]\n",
        "y_pred=per_clf.predict(X_new)\n",
        "\n"
      ]
    },
    {
      "cell_type": "code",
      "execution_count": null,
      "metadata": {
        "colab": {
          "base_uri": "https://localhost:8080/"
        },
        "id": "JnvRbQ4lQhgu",
        "outputId": "38f17293-f84c-4d21-f72f-f31839608879"
      },
      "outputs": [
        {
          "data": {
            "text/plain": [
              "array([ True, False])"
            ]
          },
          "execution_count": 2,
          "metadata": {},
          "output_type": "execute_result"
        }
      ],
      "source": [
        "y_pred"
      ]
    },
    {
      "cell_type": "code",
      "execution_count": null,
      "metadata": {
        "id": "H9ugB2NaQ4_K"
      },
      "outputs": [],
      "source": [
        "from sklearn.linear_model import SGDClassifier\n",
        "\n",
        "sgd_clf=SGDClassifier(loss='perceptron',penalty=None,\n",
        "                      learning_rate='constant',eta0=1,random_state=42)\n",
        "sgd_clf.fit(X,y)\n",
        "assert(sgd_clf.coef_==per_clf.coef_).all()\n",
        "assert(sgd_clf.intercept_==per_clf.intercept_).all()"
      ]
    },
    {
      "cell_type": "code",
      "execution_count": null,
      "metadata": {
        "colab": {
          "base_uri": "https://localhost:8080/"
        },
        "id": "2QIQ01JwSLWb",
        "outputId": "c26fd3f2-3c3a-4053-c1e2-090dcbe63122"
      },
      "outputs": [
        {
          "data": {
            "text/plain": [
              "array([ True])"
            ]
          },
          "execution_count": 4,
          "metadata": {},
          "output_type": "execute_result"
        }
      ],
      "source": [
        "sgd_clf.intercept_==per_clf.intercept_"
      ]
    },
    {
      "cell_type": "code",
      "execution_count": null,
      "metadata": {
        "colab": {
          "base_uri": "https://localhost:8080/"
        },
        "id": "idjremd4SQfW",
        "outputId": "899cec6e-246c-4730-f703-283cc21b63c9"
      },
      "outputs": [
        {
          "name": "stdout",
          "output_type": "stream",
          "text": [
            "Downloading data from https://storage.googleapis.com/tensorflow/tf-keras-datasets/train-labels-idx1-ubyte.gz\n",
            "29515/29515 [==============================] - 0s 1us/step\n",
            "Downloading data from https://storage.googleapis.com/tensorflow/tf-keras-datasets/train-images-idx3-ubyte.gz\n",
            "26421880/26421880 [==============================] - 0s 0us/step\n",
            "Downloading data from https://storage.googleapis.com/tensorflow/tf-keras-datasets/t10k-labels-idx1-ubyte.gz\n",
            "5148/5148 [==============================] - 0s 0us/step\n",
            "Downloading data from https://storage.googleapis.com/tensorflow/tf-keras-datasets/t10k-images-idx3-ubyte.gz\n",
            "4422102/4422102 [==============================] - 0s 0us/step\n"
          ]
        }
      ],
      "source": [
        "import tensorflow as tf\n",
        "fashion_mnist=tf.keras.datasets.fashion_mnist.load_data()\n",
        "(X_train_full,y_train_full),(X_test,y_test)=fashion_mnist\n",
        "(X_train,y_train)=X_train_full[:-5000],y_train_full[:-5000]\n",
        "(X_valid,y_valid)=X_train_full[-5000:],y_train_full[-5000:]"
      ]
    },
    {
      "cell_type": "code",
      "execution_count": null,
      "metadata": {
        "colab": {
          "base_uri": "https://localhost:8080/"
        },
        "id": "lyD1ADZTZZ6a",
        "outputId": "5a32648e-afc1-4c9a-c1c6-6a3a50201b00"
      },
      "outputs": [
        {
          "data": {
            "text/plain": [
              "(55000, 28, 28)"
            ]
          },
          "execution_count": 6,
          "metadata": {},
          "output_type": "execute_result"
        }
      ],
      "source": [
        "X_train.shape"
      ]
    },
    {
      "cell_type": "code",
      "execution_count": null,
      "metadata": {
        "id": "UBFVghmGdNuJ"
      },
      "outputs": [],
      "source": [
        "X_train,X_valid,X_test=X_train/255.0,X_valid/255.0,X_test/255.0"
      ]
    },
    {
      "cell_type": "code",
      "execution_count": null,
      "metadata": {
        "colab": {
          "base_uri": "https://localhost:8080/",
          "height": 406
        },
        "id": "6D72mShXdeB2",
        "outputId": "2ddd3d1c-41c4-42f3-9cd1-b3b6e6cde668"
      },
      "outputs": [
        {
          "data": {
            "image/png": "[encoded data removed]",
            "text/plain": [
              "<Figure size 640x480 with 1 Axes>"
            ]
          },
          "metadata": {},
          "output_type": "display_data"
        }
      ],
      "source": [
        "import matplotlib.pyplot as plt\n",
        "plt.imshow(X_train[0],cmap='binary')\n",
        "plt.axis('off')\n",
        "plt.show()"
      ]
    },
    {
      "cell_type": "code",
      "execution_count": null,
      "metadata": {
        "id": "PVMep0Med4wK"
      },
      "outputs": [],
      "source": [
        "class_names=['T-shirt/top','Trouser','Pullover','Dress','Coat','Sandal','Shirt','Sneaker','Bag','Ankle boot']"
      ]
    },
    {
      "cell_type": "code",
      "execution_count": null,
      "metadata": {
        "colab": {
          "base_uri": "https://localhost:8080/",
          "height": 36
        },
        "id": "n_TXRfGHez3C",
        "outputId": "dca804c1-979d-48cf-a1bf-491f4f0a6e76"
      },
      "outputs": [
        {
          "data": {
            "application/vnd.google.colaboratory.intrinsic+json": {
              "type": "string"
            },
            "text/plain": [
              "'Ankle boot'"
            ]
          },
          "execution_count": 10,
          "metadata": {},
          "output_type": "execute_result"
        }
      ],
      "source": [
        "class_names[y_train[0]]"
      ]
    },
    {
      "cell_type": "code",
      "execution_count": null,
      "metadata": {
        "colab": {
          "base_uri": "https://localhost:8080/",
          "height": 428
        },
        "id": "YlgA1Rlte2zY",
        "outputId": "d0f32c6b-44ce-478f-efe8-294bdee21af3"
      },
      "outputs": [
        {
          "data": {
            "image/png": "[encoded data removed]",
            "text/plain": [
              "<Figure size 1200x480 with 40 Axes>"
            ]
          },
          "metadata": {},
          "output_type": "display_data"
        }
      ],
      "source": [
        "n_rows = 4\n",
        "n_cols = 10\n",
        "\n",
        "plt.figure(figsize = (n_cols *1.2, n_rows * 1.2))\n",
        "for row in range(n_rows):\n",
        "  for col in range(n_cols):\n",
        "    index = n_cols*row+col\n",
        "    plt.subplot(n_rows,n_cols,index+1)\n",
        "    plt.imshow(X_train[index],cmap=\"binary\",interpolation=\"nearest\")\n",
        "    plt.axis(\"off\")\n",
        "    plt.title(class_names[y_train[index]])\n",
        "plt.subplots_adjust(wspace = 0.2 ,hspace = 0.5)\n",
        "plt.show()"
      ]
    },
    {
      "cell_type": "code",
      "execution_count": null,
      "metadata": {
        "id": "rC5Cjllha2ZB"
      },
      "outputs": [],
      "source": [
        "tf.random.set_seed(42)\n",
        "model=tf.keras.Sequential()\n",
        "model.add(tf.keras.layers.InputLayer(input_shape=[28,28]))\n",
        "model.add(tf.keras.layers.Flatten())\n",
        "model.add(tf.keras.layers.Dense(300,activation='relu'))\n",
        "model.add(tf.keras.layers.Dense(100,activation='relu'))\n",
        "model.add(tf.keras.layers.Dense(10,activation='softmax'))"
      ]
    },
    {
      "cell_type": "code",
      "execution_count": null,
      "metadata": {
        "colab": {
          "base_uri": "https://localhost:8080/"
        },
        "id": "-AYSA-Hrbf73",
        "outputId": "220ce16c-bc59-4616-d501-211dca5a3c95"
      },
      "outputs": [
        {
          "name": "stdout",
          "output_type": "stream",
          "text": [
            "Model: \"sequential\"\n",
            "_________________________________________________________________\n",
            " Layer (type)                Output Shape              Param #   \n",
            "=================================================================\n",
            " flatten (Flatten)           (None, 784)               0         \n",
            "                                                                 \n",
            " dense (Dense)               (None, 300)               235500    \n",
            "                                                                 \n",
            " dense_1 (Dense)             (None, 100)               30100     \n",
            "                                                                 \n",
            " dense_2 (Dense)             (None, 10)                1010      \n",
            "                                                                 \n",
            "=================================================================\n",
            "Total params: 266610 (1.02 MB)\n",
            "Trainable params: 266610 (1.02 MB)\n",
            "Non-trainable params: 0 (0.00 Byte)\n",
            "_________________________________________________________________\n"
          ]
        }
      ],
      "source": [
        "model.summary()"
      ]
    },
    {
      "cell_type": "code",
      "execution_count": null,
      "metadata": {
        "id": "BXbgH62Sfc3E"
      },
      "outputs": [],
      "source": [
        "tf.keras.backend.clear_session()\n",
        "tf.random.set_seed(42)\n",
        "\n",
        "model=tf.keras.Sequential([\n",
        "    tf.keras.layers.Flatten(input_shape=[28,28]),\n",
        "    tf.keras.layers.Dense(300,activation='relu'),\n",
        "    tf.keras.layers.Dense(100,activation='relu'),\n",
        "    tf.keras.layers.Dense(10,activation='softmax')\n",
        "    ])"
      ]
    },
    {
      "cell_type": "code",
      "execution_count": null,
      "metadata": {
        "colab": {
          "base_uri": "https://localhost:8080/",
          "height": 533
        },
        "id": "BoaAATc4hPm0",
        "outputId": "ef1fe3a5-f240-4785-a4c3-0370d193d60d"
      },
      "outputs": [
        {
          "data": {
            "image/png": "[encoded data removed]",
            "text/plain": [
              "<IPython.core.display.Image object>"
            ]
          },
          "execution_count": 15,
          "metadata": {},
          "output_type": "execute_result"
        }
      ],
      "source": [
        "tf.keras.utils.plot_model(model,'my_fashion_mnist_model.png',show_shapes=True)"
      ]
    },
    {
      "cell_type": "code",
      "execution_count": null,
      "metadata": {
        "colab": {
          "base_uri": "https://localhost:8080/"
        },
        "id": "_pLe7DgjiEbO",
        "outputId": "c8cc7191-562e-4f6a-dc0a-1b558b6301af"
      },
      "outputs": [
        {
          "data": {
            "text/plain": [
              "[<keras.src.layers.reshaping.flatten.Flatten at 0x7ecb596ac850>,\n",
              " <keras.src.layers.core.dense.Dense at 0x7ecb54b54fd0>,\n",
              " <keras.src.layers.core.dense.Dense at 0x7ecb54b543a0>,\n",
              " <keras.src.layers.core.dense.Dense at 0x7ecb54b55240>]"
            ]
          },
          "execution_count": 16,
          "metadata": {},
          "output_type": "execute_result"
        }
      ],
      "source": [
        "model.layers"
      ]
    },
    {
      "cell_type": "code",
      "execution_count": null,
      "metadata": {
        "colab": {
          "base_uri": "https://localhost:8080/",
          "height": 36
        },
        "id": "iQTWLIfeiwk-",
        "outputId": "8d59a4d9-d6fc-4187-8cd9-629646d69224"
      },
      "outputs": [
        {
          "data": {
            "application/vnd.google.colaboratory.intrinsic+json": {
              "type": "string"
            },
            "text/plain": [
              "'dense'"
            ]
          },
          "execution_count": 17,
          "metadata": {},
          "output_type": "execute_result"
        }
      ],
      "source": [
        "hidden1=model.layers[1]\n",
        "hidden1.name"
      ]
    },
    {
      "cell_type": "code",
      "execution_count": null,
      "metadata": {
        "colab": {
          "base_uri": "https://localhost:8080/"
        },
        "id": "6W4XneOMi2u4",
        "outputId": "46588851-b8b1-4221-f5aa-267474bbba0d"
      },
      "outputs": [
        {
          "data": {
            "text/plain": [
              "array([[ 0.01759363, -0.02626174, -0.04857419, ...,  0.0304993 ,\n",
              "         0.05987106,  0.04730636],\n",
              "       [ 0.05075431,  0.03694316,  0.04064418, ..., -0.06642462,\n",
              "         0.06686114, -0.0726048 ],\n",
              "       [-0.06733454, -0.04095642, -0.06338574, ..., -0.06874392,\n",
              "        -0.00303333, -0.03428677],\n",
              "       ...,\n",
              "       [-0.01765152,  0.06896828, -0.01183849, ..., -0.01622035,\n",
              "         0.03492983, -0.0174869 ],\n",
              "       [-0.03020029,  0.01547574,  0.05687404, ...,  0.05104852,\n",
              "        -0.03270121, -0.02489621],\n",
              "       [ 0.04061351, -0.02020084, -0.0666287 , ..., -0.02313014,\n",
              "         0.01478938, -0.05493869]], dtype=float32)"
            ]
          },
          "execution_count": 18,
          "metadata": {},
          "output_type": "execute_result"
        }
      ],
      "source": [
        "weights,biases=hidden1.get_weights()\n",
        "weights"
      ]
    },
    {
      "cell_type": "code",
      "execution_count": null,
      "metadata": {
        "colab": {
          "base_uri": "https://localhost:8080/"
        },
        "id": "PbFrrqVRi-6a",
        "outputId": "c7fda85a-6962-4f85-dc83-271891982cc3"
      },
      "outputs": [
        {
          "data": {
            "text/plain": [
              "array([0., 0., 0., 0., 0., 0., 0., 0., 0., 0., 0., 0., 0., 0., 0., 0., 0.,\n",
              "       0., 0., 0., 0., 0., 0., 0., 0., 0., 0., 0., 0., 0., 0., 0., 0., 0.,\n",
              "       0., 0., 0., 0., 0., 0., 0., 0., 0., 0., 0., 0., 0., 0., 0., 0., 0.,\n",
              "       0., 0., 0., 0., 0., 0., 0., 0., 0., 0., 0., 0., 0., 0., 0., 0., 0.,\n",
              "       0., 0., 0., 0., 0., 0., 0., 0., 0., 0., 0., 0., 0., 0., 0., 0., 0.,\n",
              "       0., 0., 0., 0., 0., 0., 0., 0., 0., 0., 0., 0., 0., 0., 0., 0., 0.,\n",
              "       0., 0., 0., 0., 0., 0., 0., 0., 0., 0., 0., 0., 0., 0., 0., 0., 0.,\n",
              "       0., 0., 0., 0., 0., 0., 0., 0., 0., 0., 0., 0., 0., 0., 0., 0., 0.,\n",
              "       0., 0., 0., 0., 0., 0., 0., 0., 0., 0., 0., 0., 0., 0., 0., 0., 0.,\n",
              "       0., 0., 0., 0., 0., 0., 0., 0., 0., 0., 0., 0., 0., 0., 0., 0., 0.,\n",
              "       0., 0., 0., 0., 0., 0., 0., 0., 0., 0., 0., 0., 0., 0., 0., 0., 0.,\n",
              "       0., 0., 0., 0., 0., 0., 0., 0., 0., 0., 0., 0., 0., 0., 0., 0., 0.,\n",
              "       0., 0., 0., 0., 0., 0., 0., 0., 0., 0., 0., 0., 0., 0., 0., 0., 0.,\n",
              "       0., 0., 0., 0., 0., 0., 0., 0., 0., 0., 0., 0., 0., 0., 0., 0., 0.,\n",
              "       0., 0., 0., 0., 0., 0., 0., 0., 0., 0., 0., 0., 0., 0., 0., 0., 0.,\n",
              "       0., 0., 0., 0., 0., 0., 0., 0., 0., 0., 0., 0., 0., 0., 0., 0., 0.,\n",
              "       0., 0., 0., 0., 0., 0., 0., 0., 0., 0., 0., 0., 0., 0., 0., 0., 0.,\n",
              "       0., 0., 0., 0., 0., 0., 0., 0., 0., 0., 0.], dtype=float32)"
            ]
          },
          "execution_count": 19,
          "metadata": {},
          "output_type": "execute_result"
        }
      ],
      "source": [
        "biases"
      ]
    },
    {
      "cell_type": "markdown",
      "metadata": {
        "id": "PKb2Ekl6jZSs"
      },
      "source": [
        "#Compiling the model"
      ]
    },
    {
      "cell_type": "code",
      "execution_count": null,
      "metadata": {
        "colab": {
          "base_uri": "https://localhost:8080/"
        },
        "id": "GiIh1mnSj__4",
        "outputId": "05e4114d-3fe5-4b7b-cdd0-e19a2ae8732d"
      },
      "outputs": [
        {
          "data": {
            "text/plain": [
              "array([9, 0, 0, ..., 9, 0, 2], dtype=uint8)"
            ]
          },
          "execution_count": 20,
          "metadata": {},
          "output_type": "execute_result"
        }
      ],
      "source": [
        "y_train"
      ]
    },
    {
      "cell_type": "code",
      "execution_count": null,
      "metadata": {
        "id": "oXjTOFzyjUZa"
      },
      "outputs": [],
      "source": [
        "model.compile(loss='sparse_categorical_crossentropy',\n",
        "              optimizer='sgd',\n",
        "              metrics=['accuracy'])"
      ]
    },
    {
      "cell_type": "code",
      "execution_count": null,
      "metadata": {
        "id": "LnHhsO3LjpMG"
      },
      "outputs": [],
      "source": [
        "model.compile(loss=tf.keras.losses.sparse_categorical_crossentropy,\n",
        "              optimizer=tf.keras.optimizers.SGD(),\n",
        "              metrics=[tf.keras.metrics.sparse_categorical_accuracy])"
      ]
    },
    {
      "cell_type": "code",
      "execution_count": null,
      "metadata": {
        "colab": {
          "base_uri": "https://localhost:8080/"
        },
        "id": "_xZ8qkS0kmrQ",
        "outputId": "fd21f905-95fe-4ad3-cac7-eed5ebf83827"
      },
      "outputs": [
        {
          "data": {
            "text/plain": [
              "array([[1., 0., 0., 0., 0., 0., 0., 0., 0., 0.],\n",
              "       [0., 0., 0., 0., 0., 1., 0., 0., 0., 0.],\n",
              "       [0., 1., 0., 0., 0., 0., 0., 0., 0., 0.],\n",
              "       [1., 0., 0., 0., 0., 0., 0., 0., 0., 0.]], dtype=float32)"
            ]
          },
          "execution_count": 23,
          "metadata": {},
          "output_type": "execute_result"
        }
      ],
      "source": [
        "tf.keras.utils.to_categorical([0,5,1,0],num_classes=10) #sparse to categorical"
      ]
    },
    {
      "cell_type": "code",
      "execution_count": null,
      "metadata": {
        "colab": {
          "base_uri": "https://localhost:8080/"
        },
        "id": "-LOCF9Xpl1bB",
        "outputId": "0ccb92dc-fd93-4449-883b-132f63b5dfc9"
      },
      "outputs": [
        {
          "data": {
            "text/plain": [
              "array([0, 5, 1, 0])"
            ]
          },
          "execution_count": 24,
          "metadata": {},
          "output_type": "execute_result"
        }
      ],
      "source": [
        "np.argmax([[1., 0., 0., 0., 0., 0., 0., 0., 0., 0.],\n",
        "       [0., 0., 0., 0., 0., 1., 0., 0., 0., 0.],\n",
        "       [0., 1., 0., 0., 0., 0., 0., 0., 0., 0.],\n",
        "       [1., 0., 0., 0., 0., 0., 0., 0., 0., 0.]],\n",
        "          axis=1)"
      ]
    },
    {
      "cell_type": "markdown",
      "metadata": {
        "id": "EZkW9r2HmHRv"
      },
      "source": [
        "#Training and Evaluating the model"
      ]
    },
    {
      "cell_type": "code",
      "execution_count": null,
      "metadata": {
        "colab": {
          "background_save": true,
          "base_uri": "https://localhost:8080/"
        },
        "id": "LJfHpP5cmAJT",
        "outputId": "2dec1940-8ff3-4ae6-fec1-09da70e14c72"
      },
      "outputs": [
        {
          "name": "stdout",
          "output_type": "stream",
          "text": [
            "Epoch 1/30\n",
            "1719/1719 [==============================] - 18s 9ms/step - loss: 0.7270 - sparse_categorical_accuracy: 0.7633 - val_loss: 0.5056 - val_sparse_categorical_accuracy: 0.8270\n",
            "Epoch 2/30\n",
            "1719/1719 [==============================] - 12s 7ms/step - loss: 0.4879 - sparse_categorical_accuracy: 0.8300 - val_loss: 0.4589 - val_sparse_categorical_accuracy: 0.8356\n",
            "Epoch 3/30\n",
            "1719/1719 [==============================] - 10s 6ms/step - loss: 0.4420 - sparse_categorical_accuracy: 0.8444 - val_loss: 0.4251 - val_sparse_categorical_accuracy: 0.8506\n",
            "Epoch 4/30\n",
            "1719/1719 [==============================] - 8s 4ms/step - loss: 0.4171 - sparse_categorical_accuracy: 0.8527 - val_loss: 0.3962 - val_sparse_categorical_accuracy: 0.8614\n",
            "Epoch 5/30\n",
            "1719/1719 [==============================] - 9s 5ms/step - loss: 0.3959 - sparse_categorical_accuracy: 0.8601 - val_loss: 0.3932 - val_sparse_categorical_accuracy: 0.8614\n",
            "Epoch 6/30\n",
            "1719/1719 [==============================] - 8s 4ms/step - loss: 0.3798 - sparse_categorical_accuracy: 0.8656 - val_loss: 0.4014 - val_sparse_categorical_accuracy: 0.8598\n",
            "Epoch 7/30\n",
            "1719/1719 [==============================] - 9s 5ms/step - loss: 0.3674 - sparse_categorical_accuracy: 0.8689 - val_loss: 0.3706 - val_sparse_categorical_accuracy: 0.8686\n",
            "Epoch 8/30\n",
            "1719/1719 [==============================] - 9s 5ms/step - loss: 0.3558 - sparse_categorical_accuracy: 0.8737 - val_loss: 0.3722 - val_sparse_categorical_accuracy: 0.8638\n",
            "Epoch 9/30\n",
            "1719/1719 [==============================] - 8s 5ms/step - loss: 0.3446 - sparse_categorical_accuracy: 0.8774 - val_loss: 0.3536 - val_sparse_categorical_accuracy: 0.8706\n",
            "Epoch 10/30\n",
            "1719/1719 [==============================] - 10s 6ms/step - loss: 0.3347 - sparse_categorical_accuracy: 0.8801 - val_loss: 0.3542 - val_sparse_categorical_accuracy: 0.8738\n",
            "Epoch 11/30\n",
            "1719/1719 [==============================] - 8s 5ms/step - loss: 0.3262 - sparse_categorical_accuracy: 0.8831 - val_loss: 0.3707 - val_sparse_categorical_accuracy: 0.8672\n",
            "Epoch 12/30\n",
            "1719/1719 [==============================] - 9s 5ms/step - loss: 0.3180 - sparse_categorical_accuracy: 0.8852 - val_loss: 0.3538 - val_sparse_categorical_accuracy: 0.8702\n",
            "Epoch 13/30\n",
            "1719/1719 [==============================] - 9s 5ms/step - loss: 0.3105 - sparse_categorical_accuracy: 0.8899 - val_loss: 0.3307 - val_sparse_categorical_accuracy: 0.8814\n",
            "Epoch 14/30\n",
            "1719/1719 [==============================] - 8s 5ms/step - loss: 0.3033 - sparse_categorical_accuracy: 0.8906 - val_loss: 0.3388 - val_sparse_categorical_accuracy: 0.8766\n",
            "Epoch 15/30\n",
            "1719/1719 [==============================] - 9s 5ms/step - loss: 0.2974 - sparse_categorical_accuracy: 0.8944 - val_loss: 0.3378 - val_sparse_categorical_accuracy: 0.8796\n",
            "Epoch 16/30\n",
            "1719/1719 [==============================] - 9s 5ms/step - loss: 0.2905 - sparse_categorical_accuracy: 0.8955 - val_loss: 0.3309 - val_sparse_categorical_accuracy: 0.8812\n",
            "Epoch 17/30\n",
            "1719/1719 [==============================] - 8s 5ms/step - loss: 0.2851 - sparse_categorical_accuracy: 0.8970 - val_loss: 0.3374 - val_sparse_categorical_accuracy: 0.8798\n",
            "Epoch 18/30\n",
            "1719/1719 [==============================] - 10s 6ms/step - loss: 0.2790 - sparse_categorical_accuracy: 0.8998 - val_loss: 0.3293 - val_sparse_categorical_accuracy: 0.8796\n",
            "Epoch 19/30\n",
            "1719/1719 [==============================] - 10s 6ms/step - loss: 0.2747 - sparse_categorical_accuracy: 0.9004 - val_loss: 0.3681 - val_sparse_categorical_accuracy: 0.8586\n",
            "Epoch 20/30\n",
            "1719/1719 [==============================] - 8s 4ms/step - loss: 0.2694 - sparse_categorical_accuracy: 0.9033 - val_loss: 0.3229 - val_sparse_categorical_accuracy: 0.8804\n",
            "Epoch 21/30\n",
            "1719/1719 [==============================] - 10s 6ms/step - loss: 0.2639 - sparse_categorical_accuracy: 0.9050 - val_loss: 0.3187 - val_sparse_categorical_accuracy: 0.8832\n",
            "Epoch 22/30\n",
            "1719/1719 [==============================] - 10s 6ms/step - loss: 0.2590 - sparse_categorical_accuracy: 0.9063 - val_loss: 0.3155 - val_sparse_categorical_accuracy: 0.8856\n",
            "Epoch 23/30\n",
            "1719/1719 [==============================] - 9s 5ms/step - loss: 0.2548 - sparse_categorical_accuracy: 0.9074 - val_loss: 0.3509 - val_sparse_categorical_accuracy: 0.8736\n",
            "Epoch 24/30\n",
            "1719/1719 [==============================] - 10s 6ms/step - loss: 0.2499 - sparse_categorical_accuracy: 0.9094 - val_loss: 0.3260 - val_sparse_categorical_accuracy: 0.8810\n",
            "Epoch 25/30\n",
            "1719/1719 [==============================] - 10s 6ms/step - loss: 0.2453 - sparse_categorical_accuracy: 0.9110 - val_loss: 0.3219 - val_sparse_categorical_accuracy: 0.8804\n",
            "Epoch 26/30\n",
            "1719/1719 [==============================] - 8s 5ms/step - loss: 0.2422 - sparse_categorical_accuracy: 0.9133 - val_loss: 0.3162 - val_sparse_categorical_accuracy: 0.8820\n",
            "Epoch 27/30\n",
            "1719/1719 [==============================] - 9s 5ms/step - loss: 0.2366 - sparse_categorical_accuracy: 0.9145 - val_loss: 0.3176 - val_sparse_categorical_accuracy: 0.8864\n",
            "Epoch 28/30\n",
            "1719/1719 [==============================] - 9s 5ms/step - loss: 0.2336 - sparse_categorical_accuracy: 0.9161 - val_loss: 0.3193 - val_sparse_categorical_accuracy: 0.8862\n",
            "Epoch 29/30\n",
            "1719/1719 [==============================] - 8s 5ms/step - loss: 0.2298 - sparse_categorical_accuracy: 0.9164 - val_loss: 0.3152 - val_sparse_categorical_accuracy: 0.8850\n",
            "Epoch 30/30\n",
            "1719/1719 [==============================] - 9s 5ms/step - loss: 0.2261 - sparse_categorical_accuracy: 0.9188 - val_loss: 0.3137 - val_sparse_categorical_accuracy: 0.8872\n"
          ]
        }
      ],
      "source": [
        "history=model.fit(X_train,y_train,epochs=30,\n",
        "                  validation_data=(X_valid,y_valid))"
      ]
    },
    {
      "cell_type": "code",
      "execution_count": null,
      "metadata": {
        "colab": {
          "background_save": true
        },
        "id": "66rAaWAUmUFo",
        "outputId": "7cb6578f-12ec-4217-cc0f-b4620c030636"
      },
      "outputs": [
        {
          "data": {
            "text/plain": [
              "{'verbose': 1, 'epochs': 30, 'steps': 1719}"
            ]
          },
          "execution_count": 26,
          "metadata": {},
          "output_type": "execute_result"
        }
      ],
      "source": [
        "history.params"
      ]
    },
    {
      "cell_type": "code",
      "execution_count": null,
      "metadata": {
        "colab": {
          "background_save": true
        },
        "id": "Vj57W8qPnwIp",
        "outputId": "04d99967-919b-4ea5-9330-73a9555f186e"
      },
      "outputs": [
        {
          "data": {
            "text/plain": [
              "{'loss': [0.7269793748855591,\n",
              "  0.4878702163696289,\n",
              "  0.4419568181037903,\n",
              "  0.41712823510169983,\n",
              "  0.395894318819046,\n",
              "  0.37975531816482544,\n",
              "  0.36739587783813477,\n",
              "  0.3558090925216675,\n",
              "  0.34457674622535706,\n",
              "  0.3346560001373291,\n",
              "  0.3261983394622803,\n",
              "  0.31800806522369385,\n",
              "  0.310507208108902,\n",
              "  0.3033263087272644,\n",
              "  0.29742303490638733,\n",
              "  0.29051682353019714,\n",
              "  0.2851406931877136,\n",
              "  0.2790060043334961,\n",
              "  0.274672269821167,\n",
              "  0.2693670690059662,\n",
              "  0.263894647359848,\n",
              "  0.2590456008911133,\n",
              "  0.25477728247642517,\n",
              "  0.24993078410625458,\n",
              "  0.24529391527175903,\n",
              "  0.24217940866947174,\n",
              "  0.23659338057041168,\n",
              "  0.23360343277454376,\n",
              "  0.2298283576965332,\n",
              "  0.22613461315631866],\n",
              " 'sparse_categorical_accuracy': [0.7632727026939392,\n",
              "  0.8299999833106995,\n",
              "  0.8444363474845886,\n",
              "  0.8526727557182312,\n",
              "  0.8600727319717407,\n",
              "  0.8656181693077087,\n",
              "  0.8688545227050781,\n",
              "  0.8736545443534851,\n",
              "  0.8774181604385376,\n",
              "  0.8800727128982544,\n",
              "  0.8831454515457153,\n",
              "  0.8851818442344666,\n",
              "  0.8898545503616333,\n",
              "  0.8906182050704956,\n",
              "  0.8944363594055176,\n",
              "  0.8954545259475708,\n",
              "  0.8970000147819519,\n",
              "  0.8998000025749207,\n",
              "  0.9004363417625427,\n",
              "  0.9033091068267822,\n",
              "  0.9049636125564575,\n",
              "  0.9063454270362854,\n",
              "  0.9074000120162964,\n",
              "  0.9094181656837463,\n",
              "  0.9109636545181274,\n",
              "  0.913345456123352,\n",
              "  0.914509117603302,\n",
              "  0.9160727262496948,\n",
              "  0.9163818359375,\n",
              "  0.9187999963760376],\n",
              " 'val_loss': [0.5055757164955139,\n",
              "  0.4589104950428009,\n",
              "  0.4250890612602234,\n",
              "  0.3961881697177887,\n",
              "  0.3932005763053894,\n",
              "  0.40135928988456726,\n",
              "  0.37055152654647827,\n",
              "  0.37219321727752686,\n",
              "  0.35358670353889465,\n",
              "  0.35418546199798584,\n",
              "  0.37072205543518066,\n",
              "  0.35381993651390076,\n",
              "  0.33065593242645264,\n",
              "  0.3387596607208252,\n",
              "  0.33780327439308167,\n",
              "  0.3308981657028198,\n",
              "  0.3374097943305969,\n",
              "  0.329334020614624,\n",
              "  0.36809882521629333,\n",
              "  0.322937548160553,\n",
              "  0.31868910789489746,\n",
              "  0.31549501419067383,\n",
              "  0.3509219288825989,\n",
              "  0.3259919285774231,\n",
              "  0.32187893986701965,\n",
              "  0.31617653369903564,\n",
              "  0.3175915479660034,\n",
              "  0.31930071115493774,\n",
              "  0.3152177333831787,\n",
              "  0.3136509358882904],\n",
              " 'val_sparse_categorical_accuracy': [0.8270000219345093,\n",
              "  0.8356000185012817,\n",
              "  0.850600004196167,\n",
              "  0.8614000082015991,\n",
              "  0.8614000082015991,\n",
              "  0.8597999811172485,\n",
              "  0.8686000108718872,\n",
              "  0.8637999892234802,\n",
              "  0.8705999851226807,\n",
              "  0.8737999796867371,\n",
              "  0.8672000169754028,\n",
              "  0.870199978351593,\n",
              "  0.8813999891281128,\n",
              "  0.8766000270843506,\n",
              "  0.8795999884605408,\n",
              "  0.8812000155448914,\n",
              "  0.879800021648407,\n",
              "  0.8795999884605408,\n",
              "  0.8586000204086304,\n",
              "  0.8804000020027161,\n",
              "  0.8831999897956848,\n",
              "  0.8855999708175659,\n",
              "  0.8736000061035156,\n",
              "  0.8809999823570251,\n",
              "  0.8804000020027161,\n",
              "  0.8820000290870667,\n",
              "  0.8863999843597412,\n",
              "  0.8862000107765198,\n",
              "  0.8849999904632568,\n",
              "  0.8871999979019165]}"
            ]
          },
          "execution_count": 27,
          "metadata": {},
          "output_type": "execute_result"
        }
      ],
      "source": [
        "history.history"
      ]
    },
    {
      "cell_type": "code",
      "execution_count": null,
      "metadata": {
        "colab": {
          "background_save": true
        },
        "id": "w4snk9IWn3CI",
        "outputId": "dc3705d2-7e6c-413f-81cb-beba7018317b"
      },
      "outputs": [
        {
          "data": {
            "image/png": "[encoded data removed]",
            "text/plain": [
              "<Figure size 800x500 with 1 Axes>"
            ]
          },
          "metadata": {},
          "output_type": "display_data"
        }
      ],
      "source": [
        "import matplotlib.pyplot as plt\n",
        "import pandas as pd\n",
        "\n",
        "pd.DataFrame(history.history).plot(\n",
        "    figsize=(8,5),xlim=[0,29],ylim=[0,1],grid=True,xlabel='Epoch',\n",
        "    style=['r--','r--.','b-','b-*']\n",
        ")\n",
        "plt.legend(loc='lower left')\n",
        "plt.show()"
      ]
    },
    {
      "cell_type": "code",
      "execution_count": null,
      "metadata": {
        "colab": {
          "background_save": true
        },
        "id": "GbSkVJzwolRA",
        "outputId": "527d97bf-dee6-4fe0-cf3b-243f714691d5"
      },
      "outputs": [
        {
          "name": "stdout",
          "output_type": "stream",
          "text": [
            "313/313 [==============================] - 1s 3ms/step - loss: 0.3310 - sparse_categorical_accuracy: 0.8849\n"
          ]
        },
        {
          "data": {
            "text/plain": [
              "[0.330964595079422, 0.8848999738693237]"
            ]
          },
          "execution_count": 29,
          "metadata": {},
          "output_type": "execute_result"
        }
      ],
      "source": [
        "model.evaluate(X_test,y_test)"
      ]
    },
    {
      "cell_type": "code",
      "execution_count": null,
      "metadata": {
        "colab": {
          "background_save": true
        },
        "id": "h8_hfgEwqEGV",
        "outputId": "5030b747-6085-492b-ebac-e7985bb1f640"
      },
      "outputs": [
        {
          "name": "stdout",
          "output_type": "stream",
          "text": [
            "1/1 [==============================] - 0s 103ms/step\n"
          ]
        },
        {
          "data": {
            "text/plain": [
              "array([[0.  , 0.  , 0.  , 0.  , 0.  , 0.01, 0.  , 0.04, 0.  , 0.95],\n",
              "       [0.  , 0.  , 1.  , 0.  , 0.  , 0.  , 0.  , 0.  , 0.  , 0.  ],\n",
              "       [0.  , 1.  , 0.  , 0.  , 0.  , 0.  , 0.  , 0.  , 0.  , 0.  ]],\n",
              "      dtype=float32)"
            ]
          },
          "execution_count": 30,
          "metadata": {},
          "output_type": "execute_result"
        }
      ],
      "source": [
        "X_new=X_test[:3]\n",
        "y_proba=model.predict(X_new)\n",
        "y_proba.round(2)"
      ]
    },
    {
      "cell_type": "code",
      "execution_count": null,
      "metadata": {
        "colab": {
          "background_save": true
        },
        "id": "EHcZ_hztqN0I",
        "outputId": "3e1fb726-5e34-49eb-a02d-7ca21d7c9a9b"
      },
      "outputs": [
        {
          "data": {
            "text/plain": [
              "array([9, 2, 1])"
            ]
          },
          "execution_count": 31,
          "metadata": {},
          "output_type": "execute_result"
        }
      ],
      "source": [
        "y_pred=y_proba.argmax(axis=1)\n",
        "y_pred"
      ]
    },
    {
      "cell_type": "code",
      "execution_count": null,
      "metadata": {
        "colab": {
          "background_save": true
        },
        "id": "YhuOkIWKq3mC",
        "outputId": "ba39bda8-9cf8-4d1b-c3e8-de911590024a"
      },
      "outputs": [
        {
          "data": {
            "text/plain": [
              "array(['Ankle boot', 'Pullover', 'Trouser'], dtype='<U11')"
            ]
          },
          "execution_count": 32,
          "metadata": {},
          "output_type": "execute_result"
        }
      ],
      "source": [
        "np.array(class_names)[y_pred]"
      ]
    },
    {
      "cell_type": "code",
      "execution_count": null,
      "metadata": {
        "colab": {
          "background_save": true
        },
        "id": "wBVaYo8TrWYU",
        "outputId": "36af28ee-6e5a-4c2c-8eab-337f501a4422"
      },
      "outputs": [
        {
          "data": {
            "image/png": "[encoded data removed]",
            "text/plain": [
              "<Figure size 640x480 with 3 Axes>"
            ]
          },
          "metadata": {},
          "output_type": "display_data"
        }
      ],
      "source": [
        "\n",
        "for index,_ in enumerate(X_new):\n",
        "  plt.subplot(1,3,index+1)\n",
        "  plt.imshow(X_new[index],cmap='binary',interpolation='nearest')\n",
        "  plt.axis('off')\n",
        "  plt.title(class_names[y_test[index]])\n",
        "plt.subplots_adjust(wspace=0.2,hspace=0.5)\n",
        "plt.show()\n"
      ]
    },
    {
      "cell_type": "code",
      "execution_count": null,
      "metadata": {
        "colab": {
          "background_save": true
        },
        "id": "CoYcCnD9IXP7"
      },
      "outputs": [],
      "source": [
        "import numpy as np\n",
        "import pandas as pd\n",
        "import tensorflow as tf\n",
        "from sklearn.datasets import fetch_california_housing\n",
        "from sklearn.model_selection import train_test_split"
      ]
    },
    {
      "cell_type": "code",
      "execution_count": null,
      "metadata": {
        "colab": {
          "background_save": true
        },
        "id": "-6Au5nEett5M"
      },
      "outputs": [],
      "source": [
        "housing = fetch_california_housing()\n",
        "X_train_full, X_test, y_train_full, y_test = train_test_split(\n",
        "    housing.data, housing.target, random_state=42)\n",
        "X_train, X_valid, y_train, y_valid = train_test_split(\n",
        "    X_train_full, y_train_full, random_state=42)"
      ]
    },
    {
      "cell_type": "code",
      "execution_count": null,
      "metadata": {
        "colab": {
          "background_save": true
        },
        "id": "U9PMox8eIT6o",
        "outputId": "77a9c9e1-ce34-4160-a889-f65e5aab4100"
      },
      "outputs": [
        {
          "name": "stdout",
          "output_type": "stream",
          "text": [
            "Epoch 1/20\n",
            "363/363 [==============================] - 3s 6ms/step - loss: 0.7911 - root_mean_squared_error: 0.8894 - val_loss: 0.5689 - val_root_mean_squared_error: 0.7542\n",
            "Epoch 2/20\n",
            "363/363 [==============================] - 1s 3ms/step - loss: 0.3788 - root_mean_squared_error: 0.6154 - val_loss: 2.6107 - val_root_mean_squared_error: 1.6158\n",
            "Epoch 3/20\n",
            "363/363 [==============================] - 1s 3ms/step - loss: 0.3727 - root_mean_squared_error: 0.6105 - val_loss: 0.3244 - val_root_mean_squared_error: 0.5696\n",
            "Epoch 4/20\n",
            "363/363 [==============================] - 1s 3ms/step - loss: 0.3411 - root_mean_squared_error: 0.5841 - val_loss: 0.8562 - val_root_mean_squared_error: 0.9253\n",
            "Epoch 5/20\n",
            "363/363 [==============================] - 1s 3ms/step - loss: 0.3314 - root_mean_squared_error: 0.5757 - val_loss: 1.5626 - val_root_mean_squared_error: 1.2501\n",
            "Epoch 6/20\n",
            "363/363 [==============================] - 1s 3ms/step - loss: 0.3356 - root_mean_squared_error: 0.5793 - val_loss: 0.4035 - val_root_mean_squared_error: 0.6352\n",
            "Epoch 7/20\n",
            "363/363 [==============================] - 1s 3ms/step - loss: 0.3136 - root_mean_squared_error: 0.5600 - val_loss: 0.3397 - val_root_mean_squared_error: 0.5829\n",
            "Epoch 8/20\n",
            "363/363 [==============================] - 1s 3ms/step - loss: 0.3059 - root_mean_squared_error: 0.5531 - val_loss: 0.8564 - val_root_mean_squared_error: 0.9254\n",
            "Epoch 9/20\n",
            "363/363 [==============================] - 1s 3ms/step - loss: 0.3026 - root_mean_squared_error: 0.5501 - val_loss: 2.1666 - val_root_mean_squared_error: 1.4719\n",
            "Epoch 10/20\n",
            "363/363 [==============================] - 1s 4ms/step - loss: 0.3119 - root_mean_squared_error: 0.5585 - val_loss: 0.5729 - val_root_mean_squared_error: 0.7569\n",
            "Epoch 11/20\n",
            "363/363 [==============================] - 2s 5ms/step - loss: 0.2912 - root_mean_squared_error: 0.5396 - val_loss: 0.4852 - val_root_mean_squared_error: 0.6965\n",
            "Epoch 12/20\n",
            "363/363 [==============================] - 1s 3ms/step - loss: 0.3000 - root_mean_squared_error: 0.5478 - val_loss: 0.2928 - val_root_mean_squared_error: 0.5411\n",
            "Epoch 13/20\n",
            "363/363 [==============================] - 1s 3ms/step - loss: 0.2864 - root_mean_squared_error: 0.5352 - val_loss: 0.5893 - val_root_mean_squared_error: 0.7676\n",
            "Epoch 14/20\n",
            "363/363 [==============================] - 1s 3ms/step - loss: 0.2831 - root_mean_squared_error: 0.5321 - val_loss: 1.2241 - val_root_mean_squared_error: 1.1064\n",
            "Epoch 15/20\n",
            "363/363 [==============================] - 1s 3ms/step - loss: 0.2884 - root_mean_squared_error: 0.5370 - val_loss: 0.6194 - val_root_mean_squared_error: 0.7870\n",
            "Epoch 16/20\n",
            "363/363 [==============================] - 1s 3ms/step - loss: 0.2825 - root_mean_squared_error: 0.5315 - val_loss: 0.7310 - val_root_mean_squared_error: 0.8550\n",
            "Epoch 17/20\n",
            "363/363 [==============================] - 1s 3ms/step - loss: 0.2807 - root_mean_squared_error: 0.5298 - val_loss: 0.3469 - val_root_mean_squared_error: 0.5890\n",
            "Epoch 18/20\n",
            "363/363 [==============================] - 1s 3ms/step - loss: 0.2731 - root_mean_squared_error: 0.5226 - val_loss: 0.6843 - val_root_mean_squared_error: 0.8272\n",
            "Epoch 19/20\n",
            "363/363 [==============================] - 1s 3ms/step - loss: 0.2727 - root_mean_squared_error: 0.5222 - val_loss: 0.4347 - val_root_mean_squared_error: 0.6593\n",
            "Epoch 20/20\n",
            "363/363 [==============================] - 1s 3ms/step - loss: 0.2727 - root_mean_squared_error: 0.5222 - val_loss: 0.5608 - val_root_mean_squared_error: 0.7489\n",
            "162/162 [==============================] - 0s 2ms/step - loss: 0.2814 - root_mean_squared_error: 0.5305\n",
            "1/1 [==============================] - 0s 74ms/step\n"
          ]
        }
      ],
      "source": [
        "tf.random.set_seed(42)\n",
        "norm_layer=tf.keras.layers.Normalization(input_shape=X_train.shape[1:])\n",
        "model=tf.keras.Sequential([\n",
        "    norm_layer,\n",
        "    tf.keras.layers.Dense(50,activation='relu'),\n",
        "    tf.keras.layers.Dense(50,activation='relu'),\n",
        "    tf.keras.layers.Dense(50,activation='relu'),\n",
        "    tf.keras.layers.Dense(1)\n",
        "])\n",
        "\n",
        "optimizer=tf.keras.optimizers.Adam(learning_rate=1e-3)\n",
        "model.compile(loss='mse',\n",
        "              optimizer=optimizer,\n",
        "              metrics=['RootMeanSquaredError'])\n",
        "norm_layer.adapt(X_train)\n",
        "history=model.fit(X_train,y_train,epochs=20,\n",
        "                  validation_data=(X_valid,y_valid))\n",
        "mse_test,rmse_test=model.evaluate(X_test,y_test)\n",
        "X_new=X_test[:3]\n",
        "y_pred=model.predict(X_new)"
      ]
    },
    {
      "cell_type": "code",
      "execution_count": null,
      "metadata": {
        "colab": {
          "background_save": true
        },
        "id": "QXWaTd7YJnbT",
        "outputId": "0d9dcb03-4499-4c5b-bef3-cf9c5d445b2a"
      },
      "outputs": [
        {
          "data": {
            "text/plain": [
              "0.5304820537567139"
            ]
          },
          "execution_count": 37,
          "metadata": {},
          "output_type": "execute_result"
        }
      ],
      "source": [
        "rmse_test"
      ]
    },
    {
      "cell_type": "code",
      "execution_count": null,
      "metadata": {
        "colab": {
          "background_save": true
        },
        "id": "37Owc-7HK3GD",
        "outputId": "a23d0d8c-b367-4d25-ff94-d1a4b012c196"
      },
      "outputs": [
        {
          "data": {
            "text/plain": [
              "array([[0.47450465],\n",
              "       [0.99540895],\n",
              "       [5.0414405 ]], dtype=float32)"
            ]
          },
          "execution_count": 38,
          "metadata": {},
          "output_type": "execute_result"
        }
      ],
      "source": [
        "y_pred"
      ]
    },
    {
      "cell_type": "markdown",
      "metadata": {
        "id": "vrJW4P84K50j"
      },
      "source": [
        "#Functional API"
      ]
    },
    {
      "cell_type": "code",
      "execution_count": null,
      "metadata": {
        "colab": {
          "background_save": true
        },
        "id": "GNDAiRQpK4RX"
      },
      "outputs": [],
      "source": [
        "tf.keras.backend.clear_session()\n",
        "tf.random.set_seed(42)"
      ]
    },
    {
      "cell_type": "code",
      "execution_count": null,
      "metadata": {
        "colab": {
          "background_save": true
        },
        "id": "_Pj_xeB8MMu5"
      },
      "outputs": [],
      "source": [
        "normalization_layer=tf.keras.layers.Normalization()\n",
        "hidden_layer1=tf.keras.layers.Dense(30,activation='relu')\n",
        "hidden_layer2=tf.keras.layers.Dense(30,activation='relu')\n",
        "concat_layer=tf.keras.layers.Concatenate()\n",
        "output_layer=tf.keras.layers.Dense(1)\n",
        "\n",
        "input_=tf.keras.layers.Input(shape=X_train.shape[1:])\n",
        "normalized=normalization_layer(input_)\n",
        "hidden1=hidden_layer1(normalized)\n",
        "hidden2=hidden_layer2(hidden1)\n",
        "concat=concat_layer([normalized,hidden2])\n",
        "output=output_layer(concat)\n",
        "\n",
        "model=tf.keras.Model(inputs=[input_],outputs=[output])"
      ]
    },
    {
      "cell_type": "code",
      "execution_count": null,
      "metadata": {
        "colab": {
          "background_save": true
        },
        "id": "0FuegQXnNKEP",
        "outputId": "c29d3565-21cb-4345-d284-7cd6013a6303"
      },
      "outputs": [
        {
          "name": "stdout",
          "output_type": "stream",
          "text": [
            "Model: \"model\"\n",
            "__________________________________________________________________________________________________\n",
            " Layer (type)                Output Shape                 Param #   Connected to                  \n",
            "==================================================================================================\n",
            " input_1 (InputLayer)        [(None, 8)]                  0         []                            \n",
            "                                                                                                  \n",
            " normalization (Normalizati  (None, 8)                    17        ['input_1[0][0]']             \n",
            " on)                                                                                              \n",
            "                                                                                                  \n",
            " dense (Dense)               (None, 30)                   270       ['normalization[0][0]']       \n",
            "                                                                                                  \n",
            " dense_1 (Dense)             (None, 30)                   930       ['dense[0][0]']               \n",
            "                                                                                                  \n",
            " concatenate (Concatenate)   (None, 38)                   0         ['normalization[0][0]',       \n",
            "                                                                     'dense_1[0][0]']             \n",
            "                                                                                                  \n",
            " dense_2 (Dense)             (None, 1)                    39        ['concatenate[0][0]']         \n",
            "                                                                                                  \n",
            "==================================================================================================\n",
            "Total params: 1256 (4.91 KB)\n",
            "Trainable params: 1239 (4.84 KB)\n",
            "Non-trainable params: 17 (72.00 Byte)\n",
            "__________________________________________________________________________________________________\n"
          ]
        }
      ],
      "source": [
        "model.summary()"
      ]
    },
    {
      "cell_type": "code",
      "execution_count": null,
      "metadata": {
        "colab": {
          "background_save": true
        },
        "id": "g4KyG9HRO7KF",
        "outputId": "1ec46f4a-3449-484e-a6f0-04f7398991d1"
      },
      "outputs": [
        {
          "name": "stdout",
          "output_type": "stream",
          "text": [
            "Epoch 1/20\n",
            "363/363 [==============================] - 2s 4ms/step - loss: 0.9517 - root_mean_squared_error: 0.9756 - val_loss: 1.6882 - val_root_mean_squared_error: 1.2993\n",
            "Epoch 2/20\n",
            "363/363 [==============================] - 1s 3ms/step - loss: 0.4476 - root_mean_squared_error: 0.6690 - val_loss: 1.1919 - val_root_mean_squared_error: 1.0917\n",
            "Epoch 3/20\n",
            "363/363 [==============================] - 1s 3ms/step - loss: 0.4109 - root_mean_squared_error: 0.6410 - val_loss: 0.7781 - val_root_mean_squared_error: 0.8821\n",
            "Epoch 4/20\n",
            "363/363 [==============================] - 1s 3ms/step - loss: 0.3804 - root_mean_squared_error: 0.6168 - val_loss: 0.5493 - val_root_mean_squared_error: 0.7411\n",
            "Epoch 5/20\n",
            "363/363 [==============================] - 1s 3ms/step - loss: 0.3716 - root_mean_squared_error: 0.6096 - val_loss: 2.4325 - val_root_mean_squared_error: 1.5596\n",
            "Epoch 6/20\n",
            "363/363 [==============================] - 1s 3ms/step - loss: 0.3752 - root_mean_squared_error: 0.6125 - val_loss: 1.8393 - val_root_mean_squared_error: 1.3562\n",
            "Epoch 7/20\n",
            "363/363 [==============================] - 1s 3ms/step - loss: 0.3701 - root_mean_squared_error: 0.6084 - val_loss: 1.5501 - val_root_mean_squared_error: 1.2450\n",
            "Epoch 8/20\n",
            "363/363 [==============================] - 1s 3ms/step - loss: 0.3516 - root_mean_squared_error: 0.5929 - val_loss: 2.1789 - val_root_mean_squared_error: 1.4761\n",
            "Epoch 9/20\n",
            "363/363 [==============================] - 1s 3ms/step - loss: 0.3516 - root_mean_squared_error: 0.5930 - val_loss: 2.0095 - val_root_mean_squared_error: 1.4176\n",
            "Epoch 10/20\n",
            "363/363 [==============================] - 2s 4ms/step - loss: 0.3511 - root_mean_squared_error: 0.5925 - val_loss: 0.8854 - val_root_mean_squared_error: 0.9410\n",
            "Epoch 11/20\n",
            "363/363 [==============================] - 2s 5ms/step - loss: 0.3352 - root_mean_squared_error: 0.5789 - val_loss: 0.5704 - val_root_mean_squared_error: 0.7552\n",
            "Epoch 12/20\n",
            "363/363 [==============================] - 1s 3ms/step - loss: 0.3398 - root_mean_squared_error: 0.5829 - val_loss: 0.9900 - val_root_mean_squared_error: 0.9950\n",
            "Epoch 13/20\n",
            "363/363 [==============================] - 1s 3ms/step - loss: 0.3319 - root_mean_squared_error: 0.5761 - val_loss: 0.6395 - val_root_mean_squared_error: 0.7997\n",
            "Epoch 14/20\n",
            "363/363 [==============================] - 1s 3ms/step - loss: 0.3220 - root_mean_squared_error: 0.5674 - val_loss: 0.4517 - val_root_mean_squared_error: 0.6721\n",
            "Epoch 15/20\n",
            "363/363 [==============================] - 1s 3ms/step - loss: 0.3214 - root_mean_squared_error: 0.5669 - val_loss: 0.9984 - val_root_mean_squared_error: 0.9992\n",
            "Epoch 16/20\n",
            "363/363 [==============================] - 1s 3ms/step - loss: 0.3189 - root_mean_squared_error: 0.5647 - val_loss: 0.8096 - val_root_mean_squared_error: 0.8998\n",
            "Epoch 17/20\n",
            "363/363 [==============================] - 1s 3ms/step - loss: 0.3218 - root_mean_squared_error: 0.5673 - val_loss: 1.2796 - val_root_mean_squared_error: 1.1312\n",
            "Epoch 18/20\n",
            "363/363 [==============================] - 1s 3ms/step - loss: 0.3160 - root_mean_squared_error: 0.5622 - val_loss: 1.7486 - val_root_mean_squared_error: 1.3224\n",
            "Epoch 19/20\n",
            "363/363 [==============================] - 1s 3ms/step - loss: 0.3170 - root_mean_squared_error: 0.5630 - val_loss: 1.0760 - val_root_mean_squared_error: 1.0373\n",
            "Epoch 20/20\n",
            "363/363 [==============================] - 1s 3ms/step - loss: 0.3193 - root_mean_squared_error: 0.5650 - val_loss: 0.9719 - val_root_mean_squared_error: 0.9858\n"
          ]
        }
      ],
      "source": [
        "optimizer=tf.keras.optimizers.Adam(learning_rate=1e-3)\n",
        "model.compile(loss='mse',\n",
        "              optimizer=optimizer,\n",
        "              metrics=['RootMeanSquaredError'])\n",
        "normalization_layer.adapt(X_train)\n",
        "history=model.fit(X_train,y_train,epochs=20,\n",
        "                  validation_data=(X_valid,y_valid))\n"
      ]
    },
    {
      "cell_type": "code",
      "execution_count": null,
      "metadata": {
        "colab": {
          "background_save": true
        },
        "id": "Ho9T9bEUQL7n",
        "outputId": "77549533-70fa-4e88-f53f-85a6b5c6fb52"
      },
      "outputs": [
        {
          "name": "stdout",
          "output_type": "stream",
          "text": [
            "162/162 [==============================] - 0s 2ms/step - loss: 0.3124 - root_mean_squared_error: 0.5589\n"
          ]
        }
      ],
      "source": [
        "mse_test=model.evaluate(X_test,y_test)"
      ]
    },
    {
      "cell_type": "code",
      "execution_count": null,
      "metadata": {
        "colab": {
          "background_save": true
        },
        "id": "efwk1YCTQbLu",
        "outputId": "688f6294-8f62-4a9f-8ebe-94aab2a38645"
      },
      "outputs": [
        {
          "name": "stdout",
          "output_type": "stream",
          "text": [
            "1/1 [==============================] - 0s 75ms/step\n"
          ]
        },
        {
          "data": {
            "text/plain": [
              "array([[0.57003343],\n",
              "       [1.3114316 ],\n",
              "       [4.5106792 ]], dtype=float32)"
            ]
          },
          "execution_count": 44,
          "metadata": {},
          "output_type": "execute_result"
        }
      ],
      "source": [
        "y_pred=model.predict(X_new)\n",
        "y_pred"
      ]
    },
    {
      "cell_type": "code",
      "execution_count": null,
      "metadata": {
        "colab": {
          "background_save": true
        },
        "id": "M8oM7lsiQiKc"
      },
      "outputs": [],
      "source": [
        "input_wide=tf.keras.layers.Input(shape=[5]) #from 0 to 4\n",
        "input_deep=tf.keras.layers.Input(shape=[6]) #from 2 to 7\n",
        "norm_layer_wide=tf.keras.layers.Normalization()\n",
        "norm_layer_deep=tf.keras.layers.Normalization()\n",
        "norm_wide=norm_layer_wide(input_wide)\n",
        "norm_deep=norm_layer_deep(input_deep)\n",
        "hidden1=tf.keras.layers.Dense(30,activation='relu')(norm_deep)\n",
        "hidden2=tf.keras.layers.Dense(30,activation='relu')(hidden1)\n",
        "concat=tf.keras.layers.concatenate([norm_wide,hidden2])\n",
        "output=tf.keras.layers.Dense(1)(concat)\n",
        "model=tf.keras.Model(inputs=[input_wide,input_deep],outputs=[output])"
      ]
    },
    {
      "cell_type": "code",
      "execution_count": null,
      "metadata": {
        "colab": {
          "background_save": true
        },
        "id": "oXNuzqpL1295",
        "outputId": "92989e9d-b287-4871-a479-6f37a81d2bee"
      },
      "outputs": [
        {
          "ename": "NameError",
          "evalue": "name 'X_train_wide' is not defined",
          "output_type": "error",
          "traceback": [
            "\u001b[0;31m---------------------------------------------------------------------------\u001b[0m",
            "\u001b[0;31mNameError\u001b[0m                                 Traceback (most recent call last)",
            "\u001b[0;32m<ipython-input-46-b5b048fce26a>\u001b[0m in \u001b[0;36m<cell line: 1>\u001b[0;34m()\u001b[0m\n\u001b[0;32m----> 1\u001b[0;31m \u001b[0mX_train_wide\u001b[0m\u001b[0;34m.\u001b[0m\u001b[0mshape\u001b[0m\u001b[0;34m,\u001b[0m \u001b[0mX_train_deep\u001b[0m\u001b[0;34m.\u001b[0m\u001b[0mshape\u001b[0m\u001b[0;34m\u001b[0m\u001b[0;34m\u001b[0m\u001b[0m\n\u001b[0m",
            "\u001b[0;31mNameError\u001b[0m: name 'X_train_wide' is not defined"
          ]
        }
      ],
      "source": [
        "X_train_wide.shape, X_train_deep.shape"
      ]
    },
    {
      "cell_type": "code",
      "execution_count": null,
      "metadata": {
        "colab": {
          "background_save": true
        },
        "id": "GiH-NWzuVVEe"
      },
      "outputs": [],
      "source": [
        "optimizer=tf.keras.optimizers.Adam(learning_rate=1e-3)\n",
        "model.compile(loss=\"mse\",optimizer=optimizer,metrics=[\"RootMeanSquaredError\"])\n",
        "\n",
        "X_train_wide,X_train_deep=X_train[:,:5],X_train[:,2:]\n",
        "X_valid_wide,X_valid_deep=X_valid[:,:5],X_valid[:,2:]\n",
        "X_test_wide,X_test_deep=X_test[:,:5],X_test[:,2:]\n",
        "X_new_wide,X_new_deep=X_test_wide[:3],X_test_deep[:3]\n",
        "\n",
        "norm_layer_wide.adapt(X_train_wide)\n",
        "norm_layer_deep.adapt(X_train_deep)\n",
        "history=model.fit([X_train_wide,X_train_deep],y_train,epochs=20,validation_data=([X_valid_wide,X_valid_deep],y_valid))\n",
        "\n",
        "mse_test=model.evaluate((X_test_wide,X_test_deep),y_test)\n",
        "\n",
        "y_pred=model.predict([X_new_wide,X_new_deep])"
      ]
    },
    {
      "cell_type": "code",
      "execution_count": null,
      "metadata": {
        "colab": {
          "background_save": true
        },
        "id": "G96H4osAVvhK"
      },
      "outputs": [],
      "source": [
        "input_wide=tf.keras.layers.Input(shape=[5])\n",
        "input_deep=tf.keras.layers.Input(shape=[6])\n",
        "norm_layer_wide=tf.keras.layers.Normalization()\n",
        "norm_layer_deep=tf.keras.layers.Normalization()\n",
        "norm_wide=norm_layer_wide(input_wide)\n",
        "norm_deep=norm_layer_deep(input_deep)\n",
        "hidden1=tf.keras.layers.Dense(30,activation='relu')(norm_deep)\n",
        "hidden2=tf.keras.layers.Dense(30,activation='relu')(hidden1)\n",
        "concat=tf.keras.layers.concatenate([norm_wide,hidden2])\n",
        "output=tf.keras.layers.Dense(1)(concat)\n",
        "aux_output=tf.keras.layers.Dense(1)(hidden2)\n",
        "model=tf.keras.Model(inputs=[input_wide,input_deep],outputs=[output,aux_output])"
      ]
    },
    {
      "cell_type": "code",
      "execution_count": null,
      "metadata": {
        "colab": {
          "background_save": true
        },
        "id": "bMsVoQhTXzuL"
      },
      "outputs": [],
      "source": [
        "optimizer=tf.keras.optimizers.Adam(learning_rate=1e-3)\n",
        "model.compile(loss=('mse','mse'),\n",
        "              loss_weights=(0.9,0.1),\n",
        "              optimizer=optimizer,\n",
        "              metrics=['RootMeanSquaredError'])\n"
      ]
    },
    {
      "cell_type": "code",
      "execution_count": null,
      "metadata": {
        "colab": {
          "background_save": true
        },
        "id": "mDcPQfteZiMa"
      },
      "outputs": [],
      "source": [
        "norm_layer_wide.adapt(X_train_wide)\n",
        "norm_layer_deep.adapt(X_train_deep)\n",
        "history=model.fit([X_train_wide,X_train_deep],[y_train,y_train],epochs=20,\n",
        "                  validation_data=([X_valid_wide,X_valid_deep],[y_valid,y_valid]))"
      ]
    },
    {
      "cell_type": "code",
      "execution_count": null,
      "metadata": {
        "colab": {
          "background_save": true
        },
        "id": "J2hZkVY2Znby"
      },
      "outputs": [],
      "source": [
        "eval_results=model.evaluate((X_test_wide,X_test_deep),(y_test,y_test))\n",
        "weighted_sum_of_losses,main_loss,aux_loss,main_rmse,aux_rmse=eval_results"
      ]
    },
    {
      "cell_type": "code",
      "execution_count": null,
      "metadata": {
        "colab": {
          "background_save": true
        },
        "id": "uRflu62ybu0K"
      },
      "outputs": [],
      "source": [
        "eval_results"
      ]
    },
    {
      "cell_type": "code",
      "execution_count": null,
      "metadata": {
        "colab": {
          "background_save": true
        },
        "id": "6B30ECWbdHCP"
      },
      "outputs": [],
      "source": []
    },
    {
      "cell_type": "markdown",
      "metadata": {
        "id": "44_6cQohdIq2"
      },
      "source": [
        "#Using the Subclassing API to Build Dynamic Models"
      ]
    },
    {
      "cell_type": "code",
      "execution_count": null,
      "metadata": {
        "colab": {
          "background_save": true
        },
        "id": "vYBYHNgmdV1n"
      },
      "outputs": [],
      "source": [
        "class WideAndDeepModel(tf.keras.Model):\n",
        "  def __init__(self,units=30,activation='relu',**kwargs):  #**kwargs elave argument ucundur.\n",
        "    super().__init__(**kwargs)\n",
        "    self.norm_layer_wide=tf.keras.layers.Normalization()\n",
        "    self.norm_layer_deep=tf.keras.layers.Normalization()\n",
        "    self.hidden1=tf.keras.layers.Dense(units,activation=activation)\n",
        "    self.hidden2=tf.keras.layers.Dense(units,activation=activation)\n",
        "    self.main_output=tf.keras.layers.Dense(1)\n",
        "    self.aux_output=tf.keras.layers.Dense(1)\n",
        "\n",
        "  def call(self,inputs):\n",
        "    input_wide,input_deep=inputs\n",
        "    norm_wide=self.norm_layer_wide(input_wide)\n",
        "    norm_deep=self.norm_layer_deep(input_deep)\n",
        "    hidden1=self.hidden1(norm_deep)\n",
        "    hidden2=self.hidden2(hidden1)\n",
        "    concat=tf.keras.layers.concatenate([norm_wide,hidden2])\n",
        "    output=self.main_output(concat)\n",
        "    aux_output=self.aux_output(hidden2)\n",
        "    return output,aux_output\n",
        "\n",
        "tf.random.set_seed(42)\n",
        "model=WideAndDeepModel(30,activation='relu',name='my_cool_model')"
      ]
    },
    {
      "cell_type": "code",
      "execution_count": null,
      "metadata": {
        "colab": {
          "background_save": true
        },
        "id": "CYVM4aZgfQBu"
      },
      "outputs": [],
      "source": [
        "optimizer=tf.keras.optimizers.Adam(learning_rate=1e-3)\n",
        "model.compile(loss='mse',\n",
        "              loss_weights=[0.9,0.1,],\n",
        "              optimizer=optimizer,\n",
        "              metrics=['RootMeanSquaredError'])\n",
        "model.norm_layer_wide.adapt(X_train_wide)\n",
        "model.norm_layer_deep.adapt(X_train_deep)\n",
        "history=model.fit([X_train_wide,X_train_deep],[y_train,y_train],\n",
        "                  epochs=10,\n",
        "                  validation_data=([X_valid_wide,X_valid_deep],[y_valid,y_valid]))\n",
        "eval_results=model.evaluate((X_test_wide,X_test_deep),(y_test,y_test))\n",
        "weighted_sum_of_losses,main_loss,aux_loss,main_rmse,aux_rmse=eval_results"
      ]
    },
    {
      "cell_type": "markdown",
      "metadata": {
        "id": "TpJm7mGsj85L"
      },
      "source": [
        "#Saving and Restoring Model"
      ]
    },
    {
      "cell_type": "code",
      "execution_count": null,
      "metadata": {
        "colab": {
          "background_save": true
        },
        "id": "aA3UAhdJhfOZ"
      },
      "outputs": [],
      "source": [
        "import shutil\n",
        "shutil.rmtree('my_keras_model',ignore_errors=True)"
      ]
    },
    {
      "cell_type": "code",
      "execution_count": null,
      "metadata": {
        "colab": {
          "background_save": true
        },
        "id": "XXV1VKETkHyK"
      },
      "outputs": [],
      "source": [
        "model.save('my_keras_model',save_format='tf')"
      ]
    },
    {
      "cell_type": "code",
      "execution_count": null,
      "metadata": {
        "colab": {
          "background_save": true
        },
        "id": "7_n-_bn7kO3y"
      },
      "outputs": [],
      "source": [
        "from pathlib import Path\n",
        "for path in sorted(Path('my_keras_model').glob('**/*')):\n",
        "  print(path)"
      ]
    },
    {
      "cell_type": "code",
      "execution_count": null,
      "metadata": {
        "colab": {
          "background_save": true
        },
        "id": "GPt0gqVWkcZG"
      },
      "outputs": [],
      "source": [
        "model=tf.keras.models.load_model('my_keras_model')\n",
        "y_pred_main,y_pred_aux=model.predict((X_new_wide,X_new_deep))"
      ]
    },
    {
      "cell_type": "code",
      "execution_count": null,
      "metadata": {
        "colab": {
          "background_save": true
        },
        "id": "-HZKGDSdmcJA"
      },
      "outputs": [],
      "source": [
        "y_pred_main"
      ]
    },
    {
      "cell_type": "markdown",
      "metadata": {
        "id": "OYnpKai3oGvf"
      },
      "source": [
        "#Using CallBacks"
      ]
    },
    {
      "cell_type": "code",
      "execution_count": null,
      "metadata": {
        "colab": {
          "background_save": true
        },
        "id": "CXr8000Jn_B0"
      },
      "outputs": [],
      "source": [
        "shutil.rmtree('my_checkpoints',ignore_errors=True)"
      ]
    },
    {
      "cell_type": "code",
      "execution_count": null,
      "metadata": {
        "colab": {
          "background_save": true
        },
        "id": "qUGa6F9AoN6A"
      },
      "outputs": [],
      "source": [
        "checkpoint_cb=tf.keras.callbacks.ModelCheckpoint('my_checkpoints',\n",
        "                                            save_weights_only=True)\n",
        "history=model.fit(\n",
        "    [X_train_wide,X_train_deep],[y_train,y_train],\n",
        "    epochs=10,\n",
        "    validation_data=([X_valid_wide,X_valid_deep],[y_valid,y_valid]),\n",
        "    callbacks=[checkpoint_cb])"
      ]
    },
    {
      "cell_type": "code",
      "execution_count": null,
      "metadata": {
        "colab": {
          "background_save": true
        },
        "id": "Ip3um6FHpLij"
      },
      "outputs": [],
      "source": [
        "early_stopping_cb=tf.keras.callbacks.EarlyStopping(patience=10,\n",
        "                                                   restore_best_weights=True)\n",
        "history=model.fit(\n",
        "    [X_train_wide,X_train_deep],[y_train,y_train],\n",
        "    epochs=100,\n",
        "    validation_data=([X_valid_wide,X_valid_deep],[y_valid,y_valid]),\n",
        "    callbacks=[checkpoint_cb,early_stopping_cb]\n",
        ")"
      ]
    },
    {
      "cell_type": "code",
      "execution_count": null,
      "metadata": {
        "colab": {
          "background_save": true
        },
        "id": "9nyJ_BSCqnia"
      },
      "outputs": [],
      "source": [
        "class PrintValTrainRatioCallback(tf.keras.callbacks.Callback):\n",
        "  def on_epoch_end(self,epoch,logs):\n",
        "    ratio=logs['val_loss']/logs['loss']\n",
        "    print(f'Epoch={epoch},val/train={ratio:.2f}')"
      ]
    },
    {
      "cell_type": "code",
      "execution_count": null,
      "metadata": {
        "colab": {
          "background_save": true
        },
        "id": "c3eDF2epsWLF"
      },
      "outputs": [],
      "source": [
        "val_train_ratio_cb=PrintValTrainRatioCallback()\n",
        "history=model.fit(\n",
        "    [X_train_wide,X_train_deep],[y_train,y_train],\n",
        "    epochs=10,\n",
        "    validation_data=((X_valid_wide,X_valid_deep),(y_valid,y_valid)),\n",
        "    callbacks=[val_train_ratio_cb],verbose=0)  #verbose ne qeder melumat vermesini gosterir."
      ]
    },
    {
      "cell_type": "markdown",
      "metadata": {
        "id": "tDemfN1e41fm"
      },
      "source": [
        "#Using TensorBoard for Visualisation"
      ]
    },
    {
      "cell_type": "code",
      "execution_count": null,
      "metadata": {
        "colab": {
          "background_save": true
        },
        "id": "CtU-_UWR40Xh"
      },
      "outputs": [],
      "source": [
        "from urllib.request import install_opener\n",
        "import sys\n",
        "if 'google.colab' in sys.modules:\n",
        "  %pip install -q -U tensorboard-plugin-profile"
      ]
    },
    {
      "cell_type": "code",
      "execution_count": null,
      "metadata": {
        "colab": {
          "background_save": true
        },
        "id": "m7KmMbXW5Hd1"
      },
      "outputs": [],
      "source": [
        "shutil.rmtree('my_logs',ignore_errors=True)"
      ]
    },
    {
      "cell_type": "code",
      "execution_count": null,
      "metadata": {
        "colab": {
          "background_save": true
        },
        "id": "LtH8WZPR5PZM"
      },
      "outputs": [],
      "source": [
        "from pathlib import Path\n",
        "from time import strftime\n",
        "\n",
        "def get_run_logdir(root_logdir='my_logs'):\n",
        "  return Path(root_logdir)/strftime('run_%Y_%m_%d_%H_%M_%S')\n",
        "\n",
        "run_logdir=get_run_logdir()"
      ]
    },
    {
      "cell_type": "code",
      "execution_count": null,
      "metadata": {
        "colab": {
          "background_save": true
        },
        "id": "9Dw6INFs64iE"
      },
      "outputs": [],
      "source": [
        "tf.keras.backend.clear_session()\n",
        "tf.random.set_seed(42)\n",
        "norm_layer=tf.keras.layers.Normalization(input_shape=X_train.shape[1:])\n",
        "model=tf.keras.Sequential([\n",
        "    norm_layer,\n",
        "    tf.keras.layers.Dense(30,activation='relu'),\n",
        "    tf.keras.layers.Dense(30,activation='relu'),\n",
        "    tf.keras.layers.Dense(1)\n",
        "])\n",
        "\n",
        "optimizer=tf.keras.optimizers.SGD(learning_rate=1e-3)\n",
        "model.compile(loss='mse',\n",
        "                      optimizer=optimizer,\n",
        "                      metrics=['RootMeanSquaredError'])\n",
        "norm_layer.adapt(X_train)\n"
      ]
    },
    {
      "cell_type": "code",
      "execution_count": null,
      "metadata": {
        "colab": {
          "background_save": true
        },
        "id": "BKYVxyFB8J9Q"
      },
      "outputs": [],
      "source": [
        "tensorboard_cb=tf.keras.callbacks.TensorBoard(run_logdir,\n",
        "                                              profile_batch=(100,200))\n",
        "history=model.fit(X_train,y_train,epochs=20,\n",
        "                  validation_data=(X_valid,y_valid),\n",
        "                  callbacks=[tensorboard_cb])"
      ]
    },
    {
      "cell_type": "code",
      "execution_count": null,
      "metadata": {
        "colab": {
          "background_save": true
        },
        "id": "dVzjq3jQ8pam"
      },
      "outputs": [],
      "source": [
        "model.evaluate(X_test,y_test)"
      ]
    },
    {
      "cell_type": "code",
      "execution_count": null,
      "metadata": {
        "colab": {
          "background_save": true
        },
        "id": "-NFglXBQ88H1"
      },
      "outputs": [],
      "source": [
        "print('my_logs')\n",
        "for path in sorted(Path('my_logs').glob('**/*')):\n",
        "  print(' '* (len(path.parts)-1)+path.parts[-1])"
      ]
    },
    {
      "cell_type": "code",
      "execution_count": null,
      "metadata": {
        "colab": {
          "background_save": true
        },
        "id": "mn_VEvqb-Zg8"
      },
      "outputs": [],
      "source": [
        "%load_ext tensorboard\n",
        "%tensorboard --logdir=./my_logs"
      ]
    },
    {
      "cell_type": "markdown",
      "metadata": {
        "id": "8ezMJvObAOEZ"
      },
      "source": [
        "#Fine-Tuning Neural Network Hyperparameters"
      ]
    },
    {
      "cell_type": "code",
      "execution_count": null,
      "metadata": {
        "colab": {
          "background_save": true
        },
        "id": "sxmJZtqL-psB"
      },
      "outputs": [],
      "source": [
        "(X_train_full,y_train_full),(X_test,y_test)=fashion_mnist\n",
        "X_train,y_train=X_train_full[:-5000],y_train_full[:-5000]\n",
        "X_valid,y_valid=X_train_full[-5000:],y_train_full[-5000:]"
      ]
    },
    {
      "cell_type": "code",
      "execution_count": null,
      "metadata": {
        "colab": {
          "background_save": true
        },
        "id": "iCkRqgSLAq-I"
      },
      "outputs": [],
      "source": [
        "tf.keras.backend.clear_session()\n",
        "tf.random.set_seed(42)"
      ]
    },
    {
      "cell_type": "code",
      "execution_count": null,
      "metadata": {
        "colab": {
          "background_save": true
        },
        "id": "0Qr0eEYXAyMo"
      },
      "outputs": [],
      "source": [
        "if 'google.colab' in sys.modules:\n",
        "  %pip install -q -U keras_tuner   #GtridSearchCv'nin tensorflow'du."
      ]
    },
    {
      "cell_type": "code",
      "execution_count": null,
      "metadata": {
        "colab": {
          "background_save": true
        },
        "id": "L5eHbdi5HjKl"
      },
      "outputs": [],
      "source": [
        "import keras_tuner as kt\n",
        "\n",
        "def build_model(hp):\n",
        "    n_hidden = hp.Int(\"n_hidden\", min_value=0, max_value=8, default=2)\n",
        "    n_neurons = hp.Int(\"n_neurons\", min_value=16, max_value=256)\n",
        "    learning_rate = hp.Float(\"learning_rate\", min_value=1e-4, max_value=1e-2,\n",
        "                             sampling=\"log\")\n",
        "    optimizer = hp.Choice(\"optimizer\", values=[\"sgd\", \"adam\"])\n",
        "    if optimizer == \"sgd\":\n",
        "        optimizer = tf.keras.optimizers.SGD(learning_rate=learning_rate)\n",
        "    else:\n",
        "        optimizer = tf.keras.optimizers.Adam(learning_rate=learning_rate)\n",
        "\n",
        "    model = tf.keras.Sequential()\n",
        "    model.add(tf.keras.layers.Flatten())\n",
        "    for _ in range(n_hidden):\n",
        "        model.add(tf.keras.layers.Dense(n_neurons, activation=\"relu\"))\n",
        "    model.add(tf.keras.layers.Dense(10, activation=\"softmax\"))\n",
        "    model.compile(loss=\"sparse_categorical_crossentropy\", optimizer=optimizer,\n",
        "                  metrics=[\"accuracy\"])\n",
        "    return model"
      ]
    },
    {
      "cell_type": "code",
      "execution_count": null,
      "metadata": {
        "colab": {
          "background_save": true
        },
        "id": "zoKc3h8WKpBN"
      },
      "outputs": [],
      "source": [
        "random_search_tuner=kt.RandomSearch(\n",
        "    build_model,objective='val_accuracy',max_trials=5,overwrite=True,\n",
        "    directory='my_fashion_mnist',project_name='my_rnd_search',seed=42)\n",
        "random_search_tuner.search(X_train,y_train,epochs=10,\n",
        "                           validation_data=(X_valid,y_valid))"
      ]
    }
  ],
  "metadata": {
    "colab": {
      "provenance": [],
      "authorship_tag": "ABX9TyOnlh1TWmEgP97eGQltLGkK",
      "include_colab_link": true
    },
    "kernelspec": {
      "display_name": "Python 3",
      "name": "python3"
    },
    "language_info": {
      "name": "python"
    }
  },
  "nbformat": 4,
  "nbformat_minor": 0
}